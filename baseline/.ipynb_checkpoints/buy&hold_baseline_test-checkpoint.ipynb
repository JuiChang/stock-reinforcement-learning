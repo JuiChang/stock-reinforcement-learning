{
 "cells": [
  {
   "cell_type": "code",
   "execution_count": 1,
   "metadata": {},
   "outputs": [],
   "source": [
    "import numpy as np # linear algebra\n",
    "import pandas as pd # data processing, CSV file I/O (e.g. pd.read_csv)\n",
    "%matplotlib inline\n",
    "import matplotlib.pyplot as plt"
   ]
  },
  {
   "cell_type": "code",
   "execution_count": 2,
   "metadata": {},
   "outputs": [],
   "source": [
    "import sys\n",
    "\n",
    "def next_state(state, action, action_level):\n",
    "    next_state = state.copy()\n",
    "    if (action > 2*action_level) or action < 0:\n",
    "        print(\"action = \", action)\n",
    "        sys.exit(\"error, action undefined! nxt\")\n",
    "\n",
    "    if action >= 1 and action <= action_level:\n",
    "        # then buy\n",
    "        \n",
    "        if state['HandCash'] > 0:\n",
    "            next_state['HandCash'] = state['HandCash']*(1 - action/action_level)\n",
    "            next_state['NumStock'] = state['NumStock'] + \\\n",
    "                                     (state['HandCash']/state['StockPrice'])*(action/action_level)\n",
    "\n",
    "    elif action >= (action_level + 1) and action <= (action_level + action_level) :\n",
    "        # then sell\n",
    "        \n",
    "        if state['NumStock'] > 0:\n",
    "            next_state['NumStock'] = state['NumStock']*(1 - (action-action_level)/action_level)\n",
    "            next_state['HandCash'] = state['HandCash'] + \\\n",
    "                                     (state['StockPrice']*state['NumStock'])*((action-action_level)/action_level)\n",
    "    \n",
    "    return next_state\n",
    "\n",
    "\n",
    "def reward(state, init_invest):\n",
    "    return (state['NumStock']*state['StockPrice'] + state['HandCash']) - init_invest\n",
    "\n",
    "def my_reward(curr, last):\n",
    "    return (curr['NumStock']*curr['StockPrice'] + curr['HandCash']) - \\\n",
    "           (last['NumStock']*last['StockPrice'] + last['HandCash'])"
   ]
  },
  {
   "cell_type": "code",
   "execution_count": 3,
   "metadata": {},
   "outputs": [
    {
     "name": "stdout",
     "output_type": "stream",
     "text": [
      "TMR.F 01-01-2001 - 31-12-2005 d.csv\n",
      "21.75\n",
      "{'NumStock': 459.7701149425287, 'StockPrice': 6.06, 'HandCash': 0.0}\n",
      "[-7213.793103448276]\n"
     ]
    }
   ],
   "source": [
    "from random import randint\n",
    "import math\n",
    "from os import listdir\n",
    "\n",
    "inputFolderFormat = \"../input/temp/{0}\"\n",
    "inputCsvList = listdir('../input/temp')\n",
    "inputCsvList = [inputCsvList[0]]\n",
    "\n",
    "last_rwd_func = reward\n",
    "\n",
    "action_level = 1\n",
    "init_invest = 10000\n",
    "\n",
    "data_result = list()\n",
    "\n",
    "for resource_data in inputCsvList:\n",
    "    print(resource_data)\n",
    "    input_csv = inputFolderFormat.format(resource_data)\n",
    "    qcom = pd.read_csv(input_csv)\n",
    "    \n",
    "    qcom.columns = ['Date', 'Open', 'High', 'Low', 'Close', 'Adj Close', 'Volume']\n",
    "    qcom = qcom.drop(index=0).reset_index(drop=True)\n",
    "    qcom = qcom.drop(index=0).reset_index(drop=True)\n",
    "    qcom = qcom.iloc[::-1].reset_index(drop=True)\n",
    "    qcom.to_csv('file_nameBH.csv', sep=',', index=False)\n",
    "    qcom = pd.read_csv('file_nameBH.csv')\n",
    "    \n",
    "    qclose = qcom['Close']\n",
    "    qclose = qclose.fillna(method='ffill')\n",
    "    qclose = qclose.fillna(method='bfill')\n",
    "    qclose = qclose.tolist()\n",
    "    #np.isnan(qclose).any()\n",
    "\n",
    "\n",
    "    last_reward_list = list()\n",
    "\n",
    "    state = {'NumStock': 0, 'StockPrice': qclose[0], 'HandCash': init_invest}\n",
    "    \n",
    "    print(qclose[0])\n",
    "    for point in range(0, len(qclose)):\n",
    "\n",
    "        # new price revealed!\n",
    "        state['StockPrice'] = qclose[point]\n",
    "\n",
    "        if point == len(qclose)-1:\n",
    "            last_reward_list.append(last_rwd_func(state, init_invest))\n",
    "            print(state)\n",
    "\n",
    "\n",
    "        # determine the next state\n",
    "        act = action_level # always buy\n",
    "        state = next_state(state, act, action_level)\n",
    "            \n",
    "            \n",
    "    #print(resource_data, sum(last_reward_list) / float(len(last_reward_list)))\n",
    "    \n",
    "    data_result.append(state['HandCash'] + state['StockPrice']*state['NumStock'] - 10000)\n",
    "print(data_result)"
   ]
  },
  {
   "cell_type": "code",
   "execution_count": 4,
   "metadata": {},
   "outputs": [
    {
     "data": {
      "text/plain": [
       "['TMR.F 01-01-2001 - 31-12-2005 d.csv']"
      ]
     },
     "execution_count": 4,
     "metadata": {},
     "output_type": "execute_result"
    }
   ],
   "source": [
    "inputCsvList"
   ]
  },
  {
   "cell_type": "code",
   "execution_count": null,
   "metadata": {},
   "outputs": [],
   "source": []
  }
 ],
 "metadata": {
  "kernelspec": {
   "display_name": "Python 3",
   "language": "python",
   "name": "python3"
  },
  "language_info": {
   "codemirror_mode": {
    "name": "ipython",
    "version": 3
   },
   "file_extension": ".py",
   "mimetype": "text/x-python",
   "name": "python",
   "nbconvert_exporter": "python",
   "pygments_lexer": "ipython3",
   "version": "3.5.2"
  }
 },
 "nbformat": 4,
 "nbformat_minor": 2
}
