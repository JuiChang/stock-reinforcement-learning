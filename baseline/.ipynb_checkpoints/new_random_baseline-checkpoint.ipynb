{
 "cells": [
  {
   "cell_type": "code",
   "execution_count": 1,
   "metadata": {},
   "outputs": [],
   "source": [
    "import numpy as np # linear algebra\n",
    "import pandas as pd # data processing, CSV file I/O (e.g. pd.read_csv)\n",
    "%matplotlib inline"
   ]
  },
  {
   "cell_type": "code",
   "execution_count": 2,
   "metadata": {
    "scrolled": false
   },
   "outputs": [],
   "source": [
    "import matplotlib.pyplot as plt\n",
    "\n",
    "def rough_plot(in_list, num_group):\n",
    "    rough_list = list()\n",
    "    tmp_sum = 0\n",
    "    \n",
    "    for i in range(1, len(in_list)):\n",
    "        tmp_sum += in_list[i]\n",
    "    \n",
    "        if(i%num_group == num_group-1):\n",
    "            rough_list.append(tmp_sum / num_group)\n",
    "            tmp_sum = 0\n",
    "            \n",
    "    plt.plot(rough_list)"
   ]
  },
  {
   "cell_type": "code",
   "execution_count": 4,
   "metadata": {},
   "outputs": [],
   "source": [
    "import sys\n",
    "\n",
    "def next_state(state, action, action_level):\n",
    "    next_state = state.copy()\n",
    "    if (action > 2*action_level) or action < 0:\n",
    "        print(\"action = \", action)\n",
    "        sys.exit(\"error, action undefined! nxt\")\n",
    "\n",
    "    if action >= 1 and action <= action_level:\n",
    "        # then buy\n",
    "        \n",
    "        if state['HandCash'] > 0:\n",
    "            next_state['HandCash'] = state['HandCash']*(1 - action/action_level)\n",
    "            next_state['NumStock'] = state['NumStock'] + \\\n",
    "                                     (state['HandCash']/state['StockPrice'])*(action/action_level)\n",
    "\n",
    "    elif action >= (action_level + 1) and action <= (action_level + action_level) :\n",
    "        # then sell\n",
    "        \n",
    "        if state['NumStock'] > 0:\n",
    "            next_state['NumStock'] = state['NumStock']*(1 - (action-action_level)/action_level)\n",
    "            next_state['HandCash'] = state['HandCash'] + \\\n",
    "                                     (state['StockPrice']*state['NumStock'])*((action-action_level)/action_level)\n",
    "    \n",
    "    return next_state\n",
    "\n",
    "\n",
    "def reward(state, init_invest):\n",
    "    return (state['NumStock']*state['StockPrice'] + state['HandCash']) - init_invest\n",
    "\n",
    "def my_reward(curr, last):\n",
    "    return (curr['NumStock']*curr['StockPrice'] + curr['HandCash']) - \\\n",
    "           (last['NumStock']*last['StockPrice'] + last['HandCash'])\n",
    "       \n",
    "def penalty_reward(curr, last):\n",
    "    penalty_multiplier = 10\n",
    "    k = (curr['NumStock']*curr['StockPrice'] + curr['HandCash']) - \\\n",
    "           (last['NumStock']*last['StockPrice'] + last['HandCash'])\n",
    "    if k < 0:\n",
    "        k = k*penalty_multiplier\n",
    "    return k\n",
    "\n"
   ]
  },
  {
   "cell_type": "code",
   "execution_count": 7,
   "metadata": {},
   "outputs": [],
   "source": [
    "import math\n",
    "from fractions import Fraction\n",
    "\n",
    "class StockQLData:\n",
    "    'Result data of approximated q-learning of stock price'\n",
    "    \n",
    "    def __init__(self, action_level, data_len, ratio_num_local, trial_range):\n",
    "        self.last_reward = list()\n",
    "        \n",
    "        self.last_w = list()\n",
    "        \n",
    "        self.rwd_sum = 0\n",
    "        self.avg_point_rwd = list()\n",
    "\n",
    "        self.act_num = np.zeros(action_level*2 + 1)\n",
    "        self.act_num_list = list()\n",
    "\n",
    "        self.ratio_local_size = math.floor(data_len/ratio_num_local)\n",
    "        self.tmp_local_act_num = np.zeros(action_level*2 + 1)\n",
    "        self.tmp_trial_act_ratio = list()\n",
    "        self.act_ratio = list() # all_trial_act_ratio\n",
    "        \n",
    "        self.trial_range = trial_range # for the default argumant of print_local_act_ratio\n",
    "        \n",
    "    def point_update_action_num(self, last_act):\n",
    "        self.act_num[last_act] += 1\n",
    "\n",
    "    \n",
    "    def point_update_rwd_sum(self, state, last_state):\n",
    "        self.rwd_sum += avg_point_rwd_func(state, last_state) \n",
    "        \n",
    "    def point_update_action_ratio(self, last_act, data_index):        \n",
    "        self.tmp_local_act_num[last_act] += 1\n",
    "        if (data_index+1) % self.ratio_local_size == 0:\n",
    "            self.tmp_trial_act_ratio.append(self.tmp_local_act_num/self.tmp_local_act_num.sum())\n",
    "            self.tmp_local_act_num.fill(0)\n",
    "            \n",
    "        \n",
    "    def last_point(self, trial_length, state, init_invest, w):\n",
    "        self.avg_point_rwd.append(self.rwd_sum/(trial_length-1)) #ignore the first reward(=0)\n",
    "        self.rwd_sum = 0\n",
    "        \n",
    "        self.last_reward.append(last_rwd_func(state, init_invest))\n",
    "        \n",
    "        cp_w = w.copy()\n",
    "        self.last_w.append(cp_w)\n",
    "\n",
    "        tmp_act_num = self.act_num.copy()\n",
    "        self.act_num_list.append(tmp_act_num)\n",
    "        self.act_num.fill(0)\n",
    "        \n",
    "        if np.count_nonzero(self.tmp_local_act_num) > 0:\n",
    "            self.tmp_trial_act_ratio.append(self.tmp_local_act_num/self.tmp_local_act_num.sum())\n",
    "            self.tmp_local_act_num.fill(0)\n",
    "        self.act_ratio.append(self.tmp_trial_act_ratio.copy())\n",
    "        del self.tmp_trial_act_ratio[:] # empty the list\n",
    "\n",
    "        \n",
    "    def __act_ratio_prepare_print(self, start, end, alcnum, action_level): # the start/end trial index(can not recognize in the plot, just where data come from), actual number of local(i.e. group)\n",
    "        ret = list()\n",
    "        \n",
    "        # initialize\n",
    "        for i in range(0, alcnum):  # alcnum\n",
    "            ret.append(np.zeros(action_level*2 + 1))\n",
    "            \n",
    "        trind = start\n",
    "        lcind = 0\n",
    "        for trind in range(start, end+1):\n",
    "            for lcind in range(0, alcnum):\n",
    "                for actind in range(0, action_level*2 + 1):\n",
    "                    ret[lcind][actind] += sqld.act_ratio[trind][lcind][actind] / (end - start + 1)\n",
    "        return ret\n",
    "\n",
    "        \n",
    "    # print the series with local rate ratio\n",
    "    def print_local_act_ratio(self, data, action_level, start_trind=0, end_trind=None):\n",
    "        if end_trind is None:\n",
    "            end_trind = trial_range - 1\n",
    "        \n",
    "        alcnum = len(sqld.act_ratio[0]) # actual number of local(i.e. group)\n",
    "        \n",
    "        to_plot = self.__act_ratio_prepare_print(start_trind, end_trind, alcnum, action_level)\n",
    "        \n",
    "        sf, saxarr = plt.subplots(alcnum, 2, figsize=(9, 4*alcnum)) # print all local by now\n",
    "        \n",
    "        row_count = 0\n",
    "        \n",
    "        pie_labels = [\"hold\"]\n",
    "        for i in range(1, action_level+1):\n",
    "            pie_labels.append(\"{0} buy\".format(Fraction(i, action_level)))\n",
    "        for i in range(1, action_level+1):\n",
    "            pie_labels.append(\"{0} sell\".format(Fraction(i, action_level)))\n",
    "            \n",
    "        for lcind in range(0, alcnum): # print all local by now\n",
    "            tmp_data = data.copy()\n",
    "            tmp_data = tmp_data[sqld.ratio_local_size*lcind : sqld.ratio_local_size*(lcind + 1)]\n",
    "            \n",
    "            saxarr[row_count, 0].plot(tmp_data)\n",
    "            saxarr[row_count, 0].set_title('close_price')\n",
    "            \n",
    "            saxarr[row_count, 1].pie(to_plot[lcind], labels=pie_labels)\n",
    "            saxarr[row_count, 1].set_title('act_ratio')\n",
    "            \n",
    "            \n",
    "            row_count += 1\n",
    "        "
   ]
  },
  {
   "cell_type": "markdown",
   "metadata": {},
   "source": [
    "after an action ---> call it the (new) state  \n",
    "here: last_state_bf_act -> |act| -> last_state -> |new price release| -> (new) state  \n",
    "but the last_state can be dismiss because when calculating(my_reward), it can be alternated by last_state_bf_act and keep the rule of the first line(i.e. after an action ---> call it the (new) state)"
   ]
  },
  {
   "cell_type": "code",
   "execution_count": 8,
   "metadata": {},
   "outputs": [
    {
     "name": "stdout",
     "output_type": "stream",
     "text": [
      "QCOM.csv 3299.6541381803127\n",
      "NOK.csv -6232.407826409568\n",
      "^DJI.csv -2187.0622186112396\n",
      "^TWII.csv -761.6935779857213\n",
      "^N225.csv -4006.3080177940737\n",
      "^GDAXI.csv -1236.7121426800932\n",
      "^IXIC.csv -3047.3441928866296\n",
      "^KS11.csv 14242.125727670988\n",
      "^SSEC.csv -5151.187278398708\n",
      "NSU.DE.csv 26988.751344712393\n",
      "DAI.DE.csv -2520.868117476054\n",
      "BMW.DE.csv 1500.3058059073337\n"
     ]
    }
   ],
   "source": [
    "relist = ['QCOM.csv', 'GOOG.csv', 'NOK.csv', '^DJI.csv', '^TWII.csv', '^N225.csv', '^GDAXI.csv', \\\n",
    "          '^IXIC.csv', '^KS11.csv', '^SSEC.csv', \\\n",
    "         'NSU.DE_10_5_5.csv', 'DAI.DE_10_5_5.csv', 'BMW.DE_10_5_5.csv']\n",
    "\n",
    "# for data in input/2001_2010/\n",
    "relist = ['QCOM.csv', 'NOK.csv', '^DJI.csv', '^TWII.csv', '^N225.csv', '^GDAXI.csv', \\\n",
    "          '^IXIC.csv', '^KS11.csv', '^SSEC.csv', \\\n",
    "         'NSU.DE.csv', 'DAI.DE.csv', 'BMW.DE.csv']\n",
    "\n",
    "#relist = ['^IXIC.csv']\n",
    "for resource_data in relist:\n",
    "    #input_csv = \"../input/{0}\".format(resource_data)\n",
    "    input_csv = \"../input/2001_2010/{0}\".format(resource_data)\n",
    "    qcom = pd.read_csv(input_csv)\n",
    "\n",
    "    qclose = qcom['Close']\n",
    "\n",
    "    qclose = qclose.fillna(qclose.median())\n",
    "\n",
    "    qclose = qclose.tolist()\n",
    "\n",
    "    np.isnan(qclose).any()\n",
    "\n",
    "    action_level = 3\n",
    "\n",
    "\n",
    "    last_rwd_func = reward\n",
    "    work_rwd_func = penalty_reward ## for updating w\n",
    "    avg_point_rwd_func = my_reward\n",
    "\n",
    "\n",
    "\n",
    "    #of candidate feature : 7\n",
    "    feature_5 = feature_5_conti\n",
    "    feature_6 = feature_6_dis\n",
    "    choose_feature = [False, False, False, False, True, False, False]\n",
    "\n",
    "\n",
    "\n",
    "\n",
    "    # preparing data for feature_5\n",
    "    import stockstats\n",
    "    qcomStockStat = stockstats.StockDataFrame.retype(qcom)\n",
    "    qcomStockStat[['kdjk','kdjd','kdjj']]\n",
    "    qkdjk = qcomStockStat['kdjk'].tolist()\n",
    "    qkdjd = qcomStockStat['kdjd'].tolist()\n",
    "\n",
    "\n",
    "\n",
    "    from random import randint\n",
    "    import math\n",
    "\n",
    "    init_invest = 10000\n",
    "    # initial state\n",
    "    state = {'NumStock': 0, 'StockPrice': qclose[0], 'HandCash': init_invest}\n",
    "    last_state = {'NumStock': 0, 'StockPrice': qclose[0], 'HandCash': init_invest}\n",
    "    last_state_bf_act = {'NumStock': 0, 'StockPrice': qclose[0], 'HandCash': init_invest}\n",
    "\n",
    "    last_act = action_level\n",
    "\n",
    "\n",
    "    keep_w = True\n",
    "\n",
    "\n",
    "    ratio_num_local = 5\n",
    "    trial_range = 1\n",
    "    sqld = StockQLData(action_level, len(qclose), ratio_num_local, trial_range)\n",
    "\n",
    "    for trial in range(0, trial_range):\n",
    "        #print(\"trial = \", trial)\n",
    "\n",
    "        state = {'NumStock': 0, 'StockPrice': qclose[0], 'HandCash': init_invest}\n",
    "        last_state = {'NumStock': 0, 'StockPrice': qclose[0], 'HandCash': init_invest}\n",
    "        last_state_bf_act = {'NumStock': 0, 'StockPrice': qclose[0], 'HandCash': init_invest}\n",
    "\n",
    "\n",
    "        for point in range(f3_x_num, len(qclose)):\n",
    "        #for point in range(f3_x_num, 10):\n",
    "\n",
    "            # new price revealed!\n",
    "            state['NumStock'] = last_state['NumStock']\n",
    "            state['HandCash'] = last_state['HandCash']\n",
    "            state['StockPrice'] = qclose[point]\n",
    "\n",
    "            # collect data           \n",
    "            sqld.point_update_action_num(last_act)        \n",
    "            sqld.point_update_rwd_sum(state, last_state)\n",
    "            sqld.point_update_action_ratio(last_act, point)\n",
    "\n",
    "            if point == len(qclose)-1:\n",
    "                #print('in loop watch w: ', w)\n",
    "                sqld.last_point(len(qclose), state, init_invest, w)\n",
    "\n",
    "\n",
    "\n",
    "\n",
    "\n",
    "\n",
    "\n",
    "\n",
    "\n",
    "            last_state_bf_act = state.copy()\n",
    "\n",
    "            # determine the next state\n",
    "\n",
    "            last_act = randint(0, 2*action_level)\n",
    "\n",
    "\n",
    "            last_state = next_state(state, last_act, action_level)\n",
    "\n",
    "    print(resource_data, sum(sqld.last_reward) / float(len(sqld.last_reward)))"
   ]
  },
  {
   "cell_type": "code",
   "execution_count": 9,
   "metadata": {},
   "outputs": [
    {
     "data": {
      "text/plain": [
       "1500.3058059073337"
      ]
     },
     "execution_count": 9,
     "metadata": {},
     "output_type": "execute_result"
    }
   ],
   "source": [
    "sum(sqld.last_reward) / float(len(sqld.last_reward))"
   ]
  },
  {
   "cell_type": "code",
   "execution_count": 10,
   "metadata": {},
   "outputs": [
    {
     "data": {
      "text/plain": [
       "[0.1, 0.1, 0.1, 0.1, 0.1, 0.1, 0.1]"
      ]
     },
     "execution_count": 10,
     "metadata": {},
     "output_type": "execute_result"
    }
   ],
   "source": [
    "w"
   ]
  },
  {
   "cell_type": "code",
   "execution_count": 11,
   "metadata": {
    "scrolled": false
   },
   "outputs": [
    {
     "data": {
      "image/png": "[encoded data removed]",
      "text/plain": [
       "<Figure size 432x288 with 1 Axes>"
      ]
     },
     "metadata": {},
     "output_type": "display_data"
    }
   ],
   "source": [
    "rough_plot(sqld.last_reward, 2)"
   ]
  },
  {
   "cell_type": "code",
   "execution_count": 12,
   "metadata": {
    "scrolled": true
   },
   "outputs": [
    {
     "data": {
      "text/plain": [
       "515"
      ]
     },
     "execution_count": 12,
     "metadata": {},
     "output_type": "execute_result"
    }
   ],
   "source": [
    "sqld.ratio_local_size"
   ]
  }
 ],
 "metadata": {
  "kernelspec": {
   "display_name": "Python 3",
   "language": "python",
   "name": "python3"
  },
  "language_info": {
   "codemirror_mode": {
    "name": "ipython",
    "version": 3
   },
   "file_extension": ".py",
   "mimetype": "text/x-python",
   "name": "python",
   "nbconvert_exporter": "python",
   "pygments_lexer": "ipython3",
   "version": "3.5.2"
  }
 },
 "nbformat": 4,
 "nbformat_minor": 2
}
