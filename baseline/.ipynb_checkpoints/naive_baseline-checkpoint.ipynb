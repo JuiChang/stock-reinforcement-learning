{
 "cells": [
  {
   "cell_type": "code",
   "execution_count": 1,
   "metadata": {},
   "outputs": [],
   "source": [
    "import numpy as np # linear algebra\n",
    "import pandas as pd # data processing, CSV file I/O (e.g. pd.read_csv)\n",
    "%matplotlib inline"
   ]
  },
  {
   "cell_type": "code",
   "execution_count": 2,
   "metadata": {
    "scrolled": false
   },
   "outputs": [],
   "source": [
    "import matplotlib.pyplot as plt\n",
    "\n",
    "def rough_plot(in_list, num_group):\n",
    "    rough_list = list()\n",
    "    tmp_sum = 0\n",
    "    \n",
    "    for i in range(1, len(in_list)):\n",
    "        tmp_sum += in_list[i]\n",
    "    \n",
    "        if(i%num_group == num_group-1):\n",
    "            rough_list.append(tmp_sum / num_group)\n",
    "            tmp_sum = 0\n",
    "            \n",
    "    plt.plot(rough_list)"
   ]
  },
  {
   "cell_type": "code",
   "execution_count": 3,
   "metadata": {},
   "outputs": [],
   "source": [
    "import sys\n",
    "\n",
    "def next_state(state, action, action_level):\n",
    "    next_state = state.copy()\n",
    "    if (action > 2*action_level) or action < 0:\n",
    "        print(\"action = \", action)\n",
    "        sys.exit(\"error, action undefined! nxt\")\n",
    "\n",
    "    if action >= 1 and action <= action_level:\n",
    "        # then buy\n",
    "        \n",
    "        if state['HandCash'] > 0:\n",
    "            next_state['HandCash'] = state['HandCash']*(1 - action/action_level)\n",
    "            next_state['NumStock'] = state['NumStock'] + \\\n",
    "                                     (state['HandCash']/state['StockPrice'])*(action/action_level)\n",
    "\n",
    "    elif action >= (action_level + 1) and action <= (action_level + action_level) :\n",
    "        # then sell\n",
    "        \n",
    "        if state['NumStock'] > 0:\n",
    "            next_state['NumStock'] = state['NumStock']*(1 - (action-action_level)/action_level)\n",
    "            next_state['HandCash'] = state['HandCash'] + \\\n",
    "                                     (state['StockPrice']*state['NumStock'])*((action-action_level)/action_level)\n",
    "    \n",
    "    return next_state\n",
    "\n",
    "\n",
    "def reward(state, init_invest):\n",
    "    return (state['NumStock']*state['StockPrice'] + state['HandCash']) - init_invest\n",
    "\n",
    "def my_reward(curr, last):\n",
    "    return (curr['NumStock']*curr['StockPrice'] + curr['HandCash']) - \\\n",
    "           (last['NumStock']*last['StockPrice'] + last['HandCash'])"
   ]
  },
  {
   "cell_type": "markdown",
   "metadata": {},
   "source": [
    "##### lists of data in each folder: copy and paste into the cell below\n",
    "* ../input/  \n",
    "inputFolderFormat = \"../input/{0}\"\n",
    "inputCsvList = ['QCOM.csv', 'GOOG.csv', 'NOK.csv', '^DJI.csv', '^TWII.csv', \n",
    "           '^N225.csv', '^GDAXI.csv', '^IXIC.csv', '^KS11.csv', '^SSEC.csv', \n",
    "           'NSU.DE_10_5_5.csv', 'DAI.DE_10_5_5.csv', 'BMW.DE_10_5_5.csv', \n",
    "           '0050.TW.csv', '1216.TW.csv', '1301.TW.csv', '2002.TW.csv', \n",
    "           '2330.TW.csv', '2409.TW.csv', '2454.TW.csv', '1704.TW.csv']\n",
    "\n",
    "* ../input/2001_2010/  \n",
    "inputFolderFormat = \"../input/2001_2010/{0}\"\n",
    "inputCsvList = ['QCOM.csv', 'NOK.csv', '^DJI.csv', '^TWII.csv', \n",
    "            '^N225.csv', '^GDAXI.csv', '^IXIC.csv', '^KS11.csv', \n",
    "            '^SSEC.csv', 'NSU.DE.csv', 'DAI.DE.csv', 'BMW.DE.csv']  \n",
    "            \n",
    "* ../input/fall/  \n",
    "inputFolderFormat = \"../input/fall/{0}\"  \n",
    "inputCsvList = ['1314.TW.csv', '2323.TW.csv', '2349.TW.csv', \n",
    "'2353.TW.csv', '2405.TW.csv', '2409.TW.csv', '2601.TW.csv', \n",
    "'2885.TW.csv', '2888.TW.csv', '6116.TW.csv']                  "
   ]
  },
  {
   "cell_type": "code",
   "execution_count": 4,
   "metadata": {},
   "outputs": [
    {
     "name": "stdout",
     "output_type": "stream",
     "text": [
      "1704.TW.csv 1833.9678369540534\n"
     ]
    }
   ],
   "source": [
    "from random import randint\n",
    "import math\n",
    "\n",
    "inputFolderFormat = \"../input/{0}\"\n",
    "inputCsvList = ['1704.TW.csv']                  \n",
    "\n",
    "last_rwd_func = reward\n",
    "avg_point_rwd_func = my_reward\n",
    "\n",
    "action_level = 3\n",
    "init_invest = 10000\n",
    "trial_range = 1000\n",
    "\n",
    "for resource_data in inputCsvList:\n",
    "\n",
    "    input_csv = inputFolderFormat.format(resource_data)\n",
    "    qcom = pd.read_csv(input_csv)\n",
    "    qclose = qcom['Close']\n",
    "    qclose = qclose.fillna(method='ffill')\n",
    "    qclose = qclose.tolist()\n",
    "    np.isnan(qclose).any()\n",
    "\n",
    "\n",
    "    last_reward_list = list()\n",
    "\n",
    "\n",
    "    for trial in range(0, trial_range):\n",
    "\n",
    "        state = {'NumStock': 0, 'StockPrice': qclose[0], 'HandCash': init_invest}\n",
    "        last_state = {'NumStock': 0, 'StockPrice': qclose[0], 'HandCash': init_invest}\n",
    "\n",
    "        for point in range(0, len(qclose)):\n",
    "\n",
    "            # new price revealed!\n",
    "            state['StockPrice'] = qclose[point]\n",
    "            # shift\n",
    "            last_state['NumStock'] = state['NumStock']\n",
    "            \n",
    "\n",
    "            if point == len(qclose)-1:\n",
    "                last_reward_list.append(last_rwd_func(state, init_invest))\n",
    "\n",
    "\n",
    "            # determine the next state\n",
    "            if \n",
    "            \n",
    "            act = randint(0, 2*action_level)\n",
    "            \n",
    "            \n",
    "            state = next_state(state, act, action_level)\n",
    "            \n",
    "            \n",
    "    print(resource_data, sum(last_reward_list) / float(len(last_reward_list)))"
   ]
  },
  {
   "cell_type": "code",
   "execution_count": 8,
   "metadata": {},
   "outputs": [
    {
     "data": {
      "text/plain": [
       "[<matplotlib.lines.Line2D at 0x7f2435c48c50>]"
      ]
     },
     "execution_count": 8,
     "metadata": {},
     "output_type": "execute_result"
    },
    {
     "data": {
      "image/png": "[encoded data removed]",
      "text/plain": [
       "<Figure size 432x288 with 1 Axes>"
      ]
     },
     "metadata": {},
     "output_type": "display_data"
    }
   ],
   "source": [
    "plt.plot(last_reward_list)"
   ]
  },
  {
   "cell_type": "code",
   "execution_count": null,
   "metadata": {},
   "outputs": [],
   "source": []
  }
 ],
 "metadata": {
  "kernelspec": {
   "display_name": "Python 3",
   "language": "python",
   "name": "python3"
  },
  "language_info": {
   "codemirror_mode": {
    "name": "ipython",
    "version": 3
   },
   "file_extension": ".py",
   "mimetype": "text/x-python",
   "name": "python",
   "nbconvert_exporter": "python",
   "pygments_lexer": "ipython3",
   "version": "3.5.2"
  }
 },
 "nbformat": 4,
 "nbformat_minor": 2
}
